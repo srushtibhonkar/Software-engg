{
 "cells": [
  {
   "cell_type": "code",
   "execution_count": null,
   "metadata": {},
   "outputs": [],
   "source": [
    "from dotenv import load_dotenv, find_dotenv\n",
    "from os import environ as env\n",
    "import random\n",
    "from re import fullmatch\n",
    "import smtplib"
   ]
  },
  {
   "cell_type": "code",
   "execution_count": null,
   "metadata": {},
   "outputs": [],
   "source": [
    "load_dotenv(find_dotenv())"
   ]
  },
  {
   "cell_type": "code",
   "execution_count": null,
   "metadata": {},
   "outputs": [],
   "source": [
    "SENDER_EMAIL = env.get('EMAIL')\n",
    "SENDER_EMAIL_PASSWD = env.get('PASSWORD')\n",
    "OTP_LENGTH = env.get(\"OTP_LENGTH\")\n",
    "\n",
    "# regular expression for validating an Email\n",
    "regex = r'\\b[A-Za-z0-9._%+-]+@[A-Za-z0-9.-]+\\.[A-Z|a-z]{2,}\\b'\n",
    "\n",
    "\n",
    "if __name__ == \"__main__\":\n",
    "\n",
    "    # Taking Input\n",
    "    print(\"Please Enter your Email to receive OTP\")\n",
    "    receiver_email = input(\"Email: \")\n",
    "\n",
    "    while fullmatch(regex, receiver_email) == None:\n",
    "        print(\"Please enter a valid email address\")\n",
    "        receiver_email = input(\"Email: \")\n",
    "\n",
    "\n",
    "    # Generating OTP\n",
    "    digits = \"0123456789\"\n",
    "    otp = random.sample(digits, OTP_LENGTH)\n",
    "    OTP = \"\".join(otp)\n",
    "\n",
    "\n",
    "    # Sending OTP\n",
    "    msg = '\\n\\nThe One Time Password(OTP) is: ' + str(OTP)\n",
    "\n",
    "    s = smtplib.SMTP('smtp.gmail.com', 587)\n",
    "    s.starttls()\n",
    "    s.login(SENDER_EMAIL, SENDER_EMAIL_PASSWD)\n",
    "    s.sendmail(SENDER_EMAIL, receiver_email, msg)\n",
    "    s.quit()\n",
    "\n",
    "\n",
    "    print()\n",
    "    print(\"OTP is sent to the given email address\")\n",
    "    print()\n",
    "    print(\"Please enter the OTP to proceed\")\n",
    "\n",
    "    # Validating OTP\n",
    "    otp = input(\"OTP: \")\n",
    "\n",
    "    if otp.strip() == OTP:\n",
    "        print(\"Given OTP was correct\")\n",
    "    else:\n",
    "        print(\"Given OTP was incorrect\")"
   ]
  }
 ],
 "metadata": {
  "kernelspec": {
   "display_name": "Python 3",
   "language": "python",
   "name": "python3"
  },
  "language_info": {
   "codemirror_mode": {
    "name": "ipython",
    "version": 3
   },
   "file_extension": ".py",
   "mimetype": "text/x-python",
   "name": "python",
   "nbconvert_exporter": "python",
   "pygments_lexer": "ipython3",
   "version": "3.8.3"
  }
 },
 "nbformat": 4,
 "nbformat_minor": 4
}
