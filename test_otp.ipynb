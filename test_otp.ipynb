{
 "cells": [
  {
   "cell_type": "code",
   "execution_count": null,
   "metadata": {},
   "outputs": [],
   "source": [
    "import GetPass #Importing Password,Email From another file.\n",
    "import random\n",
    "import smtplib #This library is used for sending message using email.\n",
    "import time"
   ]
  },
  {
   "cell_type": "code",
   "execution_count": null,
   "metadata": {},
   "outputs": [],
   "source": [
    "password = GetPass.pwd\n",
    "Sender_Mail = GetPass.email"
   ]
  },
  {
   "cell_type": "code",
   "execution_count": null,
   "metadata": {},
   "outputs": [],
   "source": [
    "def EmailValidation(Email):\n",
    "    True_Str1,True_Str2 = \"yahoo\" in Email,\"gmail\" in Email # This will store boolean values.\n",
    "    if (True_Str1 or True_Str2) and( \"@\" in Email and \".\" in Email and \"com\" in Email):\n",
    "        print(\"\\nNo Error Found in Email!\")\n",
    "    else:\n",
    "        raise AssertionError(\"Please enter valid Domain Name!\")\n",
    "def genrateOtp():\n",
    "    Length = int(input(\"Enter Length of OTP: \"))\n",
    "    otp = ''.join([str(random.randint(0,9)) for i in range(Length)]) #Generated OTP using\n",
    "    random.randint()\n",
    "    return otp\n",
    "def sendMail(Name,Email,otp):\n",
    "    server = smtplib.SMTP('smtp.gmail.com',587) #Created gmail's server, and connected to gmail API\n",
    "    # Adding transfer layered security\n",
    "    server.starttls()\n",
    "    server.login(Sender_Mail,password) # Email, App password are inserted.\n",
    "    if True:\n",
    "        msg = f\"Subject: Sending Mail using Python (smtplib)!\\n\\nHello +{Name}+, Your OTP is{str(otp)}+\\n\\n You Have 30 Seconds to enter OTP!\" \n",
    "    #Inserted Sender email ID, Recevier email ID. \n",
    "        server.sendmail(Sender_Mail,Email,msg)\n",
    "        print(\"Email Sent!\")\n",
    "        server.quit()\n",
    "def validateOTP(OT):\n",
    "# This function will check entered otp is valid or not!\n",
    "# This function also have Time Limit of 30 Sec\n",
    "    test_time = 30\n",
    "    beg_time = time.time()\n",
    "    now_time = time.time()\n",
    "    otp = OT\n",
    "    input_otp = 0\n",
    "    if input_otp == otp:\n",
    "        pass\n",
    "    else:\n",
    "        while input_otp != otp and int(now_time)-int(beg_time) <= test_time:\n",
    "            if now_time-beg_time <=test_time:\n",
    "                input_otp = input(\"Enter Valid OTP: \")\n",
    "                now_time = time.time()\n",
    "                if input_otp == otp:\n",
    "                    print(\"OTP IS VALID!\")\n",
    "                else:\n",
    "                    raise AssertionError(\"Out Of Time!\")"
   ]
  }
 ],
 "metadata": {
  "kernelspec": {
   "display_name": "Python 3",
   "language": "python",
   "name": "python3"
  },
  "language_info": {
   "codemirror_mode": {
    "name": "ipython",
    "version": 3
   },
   "file_extension": ".py",
   "mimetype": "text/x-python",
   "name": "python",
   "nbconvert_exporter": "python",
   "pygments_lexer": "ipython3",
   "version": "3.8.3"
  }
 },
 "nbformat": 4,
 "nbformat_minor": 4
}
